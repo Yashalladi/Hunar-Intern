{
 "cells": [
  {
   "cell_type": "code",
   "execution_count": 1,
   "metadata": {
    "id": "o_bNZ-yerQV6"
   },
   "outputs": [],
   "source": [
    "rules = {\n",
    "    \"hi\": \"Hello! How can I help you today?\",\n",
    "    \"hello\": \"Hi there! What can I do for you?\",\n",
    "    \"how are you\": \"I'm doing great! How about you?\",\n",
    "    \"bye\": \"Goodbye! Have a great day!\",\n",
    "    \"what is your name\": \"I am Chaty.\",\n",
    "    \"what can you do\":\"I can answer simple questions and also tell a joke\",\n",
    "    \"tell me a joke\":\"I went to the aquarium this weekend,but Ididn't stay long.There's something fishy about that place.\",\n",
    "    \"joke\":\"Why don't scientists trust atoms?Because they make up evreything.\",\n",
    "    \"default\": \"I'm sorry, I don't understand that. Can you please rephrase?\"\n",
    "}\n"
   ]
  },
  {
   "cell_type": "code",
   "execution_count": 2,
   "metadata": {
    "id": "MlqMP2W7rVm8"
   },
   "outputs": [],
   "source": [
    "\n",
    "\n",
    "def get_response(user_input):\n",
    "    \n",
    "    user_input = user_input.lower()\n",
    "\n",
    "    \n",
    "    for key in rules:\n",
    "        if key in user_input:\n",
    "            return rules[key]\n",
    "    return rules[\"default\"]\n"
   ]
  },
  {
   "cell_type": "code",
   "execution_count": null,
   "metadata": {
    "colab": {
     "base_uri": "https://localhost:8080/"
    },
    "id": "rUPB3BZarF0L",
    "outputId": "febfde60-aa40-4761-a85a-af5afcfbe97b"
   },
   "outputs": [
    {
     "name": "stdout",
     "output_type": "stream",
     "text": [
      "Chatbot: Hello! I am here to assist you. Type 'bye' to exit.\n",
      "You: joke\n",
      "Chatbot: Why don't scientists trust atoms?Because they make up evreything.\n",
      "You: hi\n",
      "Chatbot: Hello! How can I help you today?\n",
      "You: how are you\n",
      "Chatbot: I'm doing great! How about you?\n",
      "You: name\n",
      "Chatbot: I'm sorry, I don't understand that. Can you please rephrase?\n",
      "You: what is your name\n",
      "Chatbot: I am Chaty.\n",
      "You: tell me a joke\n",
      "Chatbot: I went to the aquarium this weekend,but Ididn't stay long.There's something fishy about that place.\n",
      "You: how are you\n",
      "Chatbot: I'm doing great! How about you?\n"
     ]
    }
   ],
   "source": [
    "\n",
    "def chatbot():\n",
    "    print(\"Chatbot: Hello! I am here to assist you. Type 'bye' to exit.\")\n",
    "\n",
    "    while True:\n",
    "        user_input = input(\"You: \")\n",
    "\n",
    "        if user_input.lower() == \"bye\":\n",
    "            print(\"Chatbot: \" + get_response(user_input))\n",
    "            break\n",
    "\n",
    "        response = get_response(user_input)\n",
    "        print(\"Chatbot: \" + response)\n",
    "chatbot()\n"
   ]
  },
  {
   "cell_type": "code",
   "execution_count": null,
   "metadata": {
    "id": "LNH3jAbsrOcV"
   },
   "outputs": [],
   "source": []
  }
 ],
 "metadata": {
  "colab": {
   "provenance": []
  },
  "kernelspec": {
   "display_name": "Python 3 (ipykernel)",
   "language": "python",
   "name": "python3"
  },
  "language_info": {
   "codemirror_mode": {
    "name": "ipython",
    "version": 3
   },
   "file_extension": ".py",
   "mimetype": "text/x-python",
   "name": "python",
   "nbconvert_exporter": "python",
   "pygments_lexer": "ipython3",
   "version": "3.11.4"
  }
 },
 "nbformat": 4,
 "nbformat_minor": 1
}
